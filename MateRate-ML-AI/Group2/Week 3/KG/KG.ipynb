{
 "cells": [
  {
   "cell_type": "code",
   "execution_count": 1,
   "metadata": {},
   "outputs": [],
   "source": [
    "import numpy as np\n",
    "import pandas as pd\n",
    "import linecache\n",
    "import ctypes"
   ]
  },
  {
   "cell_type": "code",
   "execution_count": 2,
   "metadata": {},
   "outputs": [],
   "source": [
    "class Newnode :\n",
    "    def __init__(self):\n",
    "        self.key = -1 \n",
    "        self.concept =\" \"\n",
    "        self.neigh = []\n",
    "        self.relation_w_n = []\n",
    "        self.skills = []\n",
    "        \n"
   ]
  },
  {
   "cell_type": "code",
   "execution_count": 3,
   "metadata": {},
   "outputs": [],
   "source": [
    "def createnode(key,concept,skills,neighbours,relations):\n",
    "    node = Newnode()\n",
    "    node.key = key\n",
    "    node.concept = concept\n",
    "    node.neigh = neighbours\n",
    "    node.skills = skills\n",
    "    node.relation_w_n = relations\n",
    "    return node"
   ]
  },
  {
   "cell_type": "code",
   "execution_count": 4,
   "metadata": {},
   "outputs": [],
   "source": [
    "def update(key_node,relatives,relations):\n",
    "    for i in range(len(relatives)):\n",
    "        key_node[relatives[i]].neigh.append(node)\n",
    "        key_node[relatives[i]].relation_w_n.append(-relations[i])"
   ]
  },
  {
   "cell_type": "code",
   "execution_count": 5,
   "metadata": {},
   "outputs": [],
   "source": [
    "def printnode(n):\n",
    "    #l = open(\"output.txt\",'r').readlines()\n",
    "    #node_printing = l[n+1].split()\n",
    "    print(\"The concept is \",key_node[n].concept)\n",
    "    neighbours = []\n",
    "    for i in range(len(key_node[n].neigh)) :\n",
    "        neighbours.append(key_node[key_node[n].neigh[i]].concept)\n",
    "    print(\"The neighbours are \" + str(neighbours))\n",
    "    relations = []\n",
    "    for i in range(len(key_node[n].relation_w_n)) :\n",
    "        relations.append(key_node[n].relation_w_n[i])\n",
    "    print(\"The relation with neighnours are \" + str(relations))\n",
    "    print(\"The skills of this concept is \"+ str(key_node[n].skills))"
   ]
  },
  {
   "cell_type": "code",
   "execution_count": 6,
   "metadata": {},
   "outputs": [],
   "source": [
    "def deletenode(n,key_node,all_relations_for_graph,G):\n",
    "    G.remove_node(n)\n",
    "    all_relations_for_graph = G.edges()\n",
    "    key_node[n]=\"Deleted\"\n",
    "    lines = open(\"output.txt\",'r').readlines()\n",
    "    lines[n-1] = str(n) + \" Deleted\\n\" \n",
    "    out = open(\"output.txt\",'w')\n",
    "    out.writelines(lines)\n",
    "    out.close()\n",
    "    return key_node, all_relations_for_graph, G"
   ]
  },
  {
   "cell_type": "code",
   "execution_count": 7,
   "metadata": {},
   "outputs": [],
   "source": [
    "def editnode(n,concept,skills,neighbours,relations,G,H,all_relations_for_graph):\n",
    "    key_node[n].concept = concept\n",
    "    key_node[n].skills = skills\n",
    "    key_node[n].neigh = neighbours\n",
    "    key_node[n].relations_w_n = relations\n",
    "    G.remove_node(n)\n",
    "    H.add_node(n)\n",
    "    H.add_nodes_from(G.nodes())\n",
    "    H.add_edges_from(G.edges())\n",
    "    a = []\n",
    "    for i in range(len(neighbours)):\n",
    "        a.append((n,neighbours[i]))\n",
    "    H.add_edges_from(a)\n",
    "    del G\n",
    "    return H,all_relations_for_graph"
   ]
  },
  {
   "cell_type": "code",
   "execution_count": 8,
   "metadata": {},
   "outputs": [],
   "source": [
    "def bfs_traversal(G,root) :\n",
    "    edges = nx.bfs_edges(G, root)\n",
    "    nodes = [root] + [v for u, v in edges]\n",
    "    return nodes\n"
   ]
  },
  {
   "cell_type": "code",
   "execution_count": 9,
   "metadata": {},
   "outputs": [],
   "source": [
    "def get_levels(key_node):\n",
    "    levels= {}\n",
    "    levels[1] = 1\n",
    "    for a in range(2,len(key_node)):\n",
    "        b = key_node[a].relation_w_n[0]\n",
    "        c = key_node[a].neigh[0]\n",
    "        if(b==1):\n",
    "            levels[a] = levels[c] + 1\n",
    "        if(b==0):\n",
    "            levels[a]=levels[c]\n",
    "    return levels"
   ]
  },
  {
   "cell_type": "code",
   "execution_count": 10,
   "metadata": {},
   "outputs": [],
   "source": [
    "out_file = open(\"output.txt\",'a+')\n",
    "concept_data= open(\"Concepts_data.txt\",\"r\")\n",
    "lines  = concept_data.readlines()\n",
    "lines=[x.strip() for x in lines]\n",
    "key_node = {}\n",
    "all_relations_for_graph = []"
   ]
  },
  {
   "cell_type": "code",
   "execution_count": 11,
   "metadata": {},
   "outputs": [],
   "source": [
    "for i in range(int(len(lines)/5)) :\n",
    "    key = int(lines[5*i])\n",
    "    concept = lines[5*i+1]\n",
    "    skills = lines[5*i+2].split()\n",
    "    neigh = lines[5*i+3].split()\n",
    "    relation = lines[5*i+4].split()\n",
    "    s = []\n",
    "    n = []\n",
    "    r = []\n",
    "    for j in range(len(skills)) :\n",
    "        s.append(int(skills[j]))\n",
    "    if(neigh[0]!=\"-\"):\n",
    "        for j in range(len(neigh)):\n",
    "            n.append(int(neigh[j]))\n",
    "            r.append(int(relation[j]))\n",
    "            all_relations_for_graph.append((key,int(neigh[j])))\n",
    "    node = createnode(key,concept,s,n,r)\n",
    "    key_node[key] = node\n",
    "    update(key_node,n,r)"
   ]
  },
  {
   "cell_type": "code",
   "execution_count": 12,
   "metadata": {},
   "outputs": [],
   "source": [
    "def getkeys_asarray(dict):\n",
    "    return [*dict]\n",
    "a = getkeys_asarray(key_node)\n",
    "for i in range(len(a)):\n",
    "    out_file.write(str(a[i])+\" \"+str(id(key_node[a[i]]))+\"\\n\")\n",
    "out_file.close()"
   ]
  },
  {
   "cell_type": "code",
   "execution_count": 13,
   "metadata": {},
   "outputs": [],
   "source": [
    "import networkx as nx\n",
    "import matplotlib.pyplot as plt\n",
    "G=nx.Graph()"
   ]
  },
  {
   "cell_type": "code",
   "execution_count": 14,
   "metadata": {},
   "outputs": [
    {
     "data": {
      "text/plain": [
       "[(2, 1), (3, 1), (4, 2), (5, 2), (6, 3), (7, 3), (8, 3), (8, 7)]"
      ]
     },
     "execution_count": 14,
     "metadata": {},
     "output_type": "execute_result"
    }
   ],
   "source": [
    "all_relations_for_graph"
   ]
  },
  {
   "cell_type": "code",
   "execution_count": 15,
   "metadata": {},
   "outputs": [],
   "source": [
    "# adding just one node:\n",
    "G.add_node(1)\n",
    "# a list of nodes:\n",
    "G.add_nodes_from(key_node.keys())"
   ]
  },
  {
   "cell_type": "code",
   "execution_count": 16,
   "metadata": {},
   "outputs": [],
   "source": [
    "G.add_edges_from(all_relations_for_graph)"
   ]
  },
  {
   "cell_type": "code",
   "execution_count": 17,
   "metadata": {},
   "outputs": [
    {
     "name": "stderr",
     "output_type": "stream",
     "text": [
      "C:\\Users\\adity\\Anaconda3\\lib\\site-packages\\networkx\\drawing\\nx_pylab.py:579: MatplotlibDeprecationWarning: \n",
      "The iterable function was deprecated in Matplotlib 3.1 and will be removed in 3.3. Use np.iterable instead.\n",
      "  if not cb.iterable(width):\n"
     ]
    },
    {
     "data": {
      "image/png": "[encoded data removed]",
      "text/plain": [
       "<Figure size 432x288 with 1 Axes>"
      ]
     },
     "metadata": {},
     "output_type": "display_data"
    }
   ],
   "source": [
    "nx.draw(G)"
   ]
  },
  {
   "cell_type": "code",
   "execution_count": 18,
   "metadata": {},
   "outputs": [
    {
     "name": "stdout",
     "output_type": "stream",
     "text": [
      "The concept is  concept 8\n",
      "The neighbours are ['concept 3', 'concept 7']\n",
      "The relation with neighnours are [1, 0]\n",
      "The skills of this concept is [0, 0, 0, 1]\n"
     ]
    }
   ],
   "source": [
    "#using printnode\n",
    "printnode(8)"
   ]
  },
  {
   "cell_type": "code",
   "execution_count": 19,
   "metadata": {},
   "outputs": [],
   "source": [
    "#definig levels\n",
    "levels= get_levels(key_node)"
   ]
  },
  {
   "cell_type": "code",
   "execution_count": 20,
   "metadata": {},
   "outputs": [
    {
     "data": {
      "text/plain": [
       "{1: 1, 2: 2, 3: 2, 4: 2, 5: 3, 6: 3, 7: 3}"
      ]
     },
     "execution_count": 20,
     "metadata": {},
     "output_type": "execute_result"
    }
   ],
   "source": [
    "levels"
   ]
  },
  {
   "cell_type": "code",
   "execution_count": 21,
   "metadata": {},
   "outputs": [
    {
     "data": {
      "image/png": "[encoded data removed]",
      "text/plain": [
       "<Figure size 432x288 with 1 Axes>"
      ]
     },
     "metadata": {},
     "output_type": "display_data"
    }
   ],
   "source": [
    "#using deletenode\n",
    "key_node, all_relations_for_graph, G = deletenode(1,key_node,all_relations_for_graph,G)\n",
    "nx.draw(G)"
   ]
  },
  {
   "cell_type": "code",
   "execution_count": 22,
   "metadata": {},
   "outputs": [
    {
     "data": {
      "image/png": "[encoded data removed]",
      "text/plain": [
       "<Figure size 432x288 with 1 Axes>"
      ]
     },
     "metadata": {},
     "output_type": "display_data"
    }
   ],
   "source": [
    "#using editnode\n",
    "H = nx.Graph()\n",
    "G, all_relations_for_graph = editnode(2,\"Concept 2\",[0,0,0,0],[3,4,5],[0,0,-1],G,H,all_relations_for_graph)\n",
    "nx.draw(G)"
   ]
  },
  {
   "cell_type": "code",
   "execution_count": 23,
   "metadata": {},
   "outputs": [
    {
     "data": {
      "text/plain": [
       "[2, 3, 4, 5, 6, 7, 8]"
      ]
     },
     "execution_count": 23,
     "metadata": {},
     "output_type": "execute_result"
    }
   ],
   "source": [
    "#using traversal\n",
    "nodes = bfs_traversal(G,2)\n",
    "nodes\n"
   ]
  }
 ],
 "metadata": {
  "kernelspec": {
   "display_name": "Python 3",
   "language": "python",
   "name": "python3"
  },
  "language_info": {
   "codemirror_mode": {
    "name": "ipython",
    "version": 3
   },
   "file_extension": ".py",
   "mimetype": "text/x-python",
   "name": "python",
   "nbconvert_exporter": "python",
   "pygments_lexer": "ipython3",
   "version": "3.7.3"
  }
 },
 "nbformat": 4,
 "nbformat_minor": 2
}
