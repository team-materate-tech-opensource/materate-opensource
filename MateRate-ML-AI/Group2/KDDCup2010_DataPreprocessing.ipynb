{
  "nbformat": 4,
  "nbformat_minor": 0,
  "metadata": {
    "colab": {
      "name": "KDDCup2010_DataPreprocessing.ipynb",
      "provenance": []
    },
    "kernelspec": {
      "name": "python3",
      "display_name": "Python 3"
    }
  },
  "cells": [
    {
      "cell_type": "markdown",
      "metadata": {
        "id": "mNjV4O2vf-c8",
        "colab_type": "text"
      },
      "source": [
        "# Data Preprocessing\n",
        "\n"
      ]
    },
    {
      "cell_type": "code",
      "metadata": {
        "id": "xy1ZO3yEf2fD",
        "colab_type": "code",
        "colab": {}
      },
      "source": [
        "import pandas as pd\n",
        "import numpy as np\n",
        "import matplotlib.pyplot as plt\n",
        "import sklearn"
      ],
      "execution_count": 0,
      "outputs": []
    },
    {
      "cell_type": "code",
      "metadata": {
        "id": "HswzJVXaggaA",
        "colab_type": "code",
        "colab": {}
      },
      "source": [
        "trainData = '/content/algebra_2005_2006_train.txt'\n",
        "testData  = '/content/algebra_2005_2006_test.txt'\n",
        "traindata = pd.read_table(trainData)"
      ],
      "execution_count": 0,
      "outputs": []
    },
    {
      "cell_type": "code",
      "metadata": {
        "id": "beI33J7yhRim",
        "colab_type": "code",
        "outputId": "55c97bc9-6c00-485f-e30c-a4a455683822",
        "colab": {
          "base_uri": "https://localhost:8080/",
          "height": 602
        }
      },
      "source": [
        "traindata.head()"
      ],
      "execution_count": 0,
      "outputs": [
        {
          "output_type": "execute_result",
          "data": {
            "text/html": [
              "<div>\n",
              "<style scoped>\n",
              "    .dataframe tbody tr th:only-of-type {\n",
              "        vertical-align: middle;\n",
              "    }\n",
              "\n",
              "    .dataframe tbody tr th {\n",
              "        vertical-align: top;\n",
              "    }\n",
              "\n",
              "    .dataframe thead th {\n",
              "        text-align: right;\n",
              "    }\n",
              "</style>\n",
              "<table border=\"1\" class=\"dataframe\">\n",
              "  <thead>\n",
              "    <tr style=\"text-align: right;\">\n",
              "      <th></th>\n",
              "      <th>Row</th>\n",
              "      <th>Anon Student Id</th>\n",
              "      <th>Problem Hierarchy</th>\n",
              "      <th>Problem Name</th>\n",
              "      <th>Problem View</th>\n",
              "      <th>Step Name</th>\n",
              "      <th>Step Start Time</th>\n",
              "      <th>First Transaction Time</th>\n",
              "      <th>Correct Transaction Time</th>\n",
              "      <th>Step End Time</th>\n",
              "      <th>Step Duration (sec)</th>\n",
              "      <th>Correct Step Duration (sec)</th>\n",
              "      <th>Error Step Duration (sec)</th>\n",
              "      <th>Correct First Attempt</th>\n",
              "      <th>Incorrects</th>\n",
              "      <th>Hints</th>\n",
              "      <th>Corrects</th>\n",
              "      <th>KC(Default)</th>\n",
              "      <th>Opportunity(Default)</th>\n",
              "    </tr>\n",
              "  </thead>\n",
              "  <tbody>\n",
              "    <tr>\n",
              "      <th>0</th>\n",
              "      <td>1</td>\n",
              "      <td>0BrbPbwCMz</td>\n",
              "      <td>Unit ES_04, Section ES_04-1</td>\n",
              "      <td>EG4-FIXED</td>\n",
              "      <td>1</td>\n",
              "      <td>3(x+2) = 15</td>\n",
              "      <td>2005-09-09 12:24:35.0</td>\n",
              "      <td>2005-09-09 12:24:49.0</td>\n",
              "      <td>2005-09-09 12:25:15.0</td>\n",
              "      <td>2005-09-09 12:25:15.0</td>\n",
              "      <td>40.0</td>\n",
              "      <td>NaN</td>\n",
              "      <td>40.0</td>\n",
              "      <td>0</td>\n",
              "      <td>2</td>\n",
              "      <td>3</td>\n",
              "      <td>1</td>\n",
              "      <td>[SkillRule: Eliminate Parens; {CLT nested; CLT...</td>\n",
              "      <td>1</td>\n",
              "    </tr>\n",
              "    <tr>\n",
              "      <th>1</th>\n",
              "      <td>2</td>\n",
              "      <td>0BrbPbwCMz</td>\n",
              "      <td>Unit ES_04, Section ES_04-1</td>\n",
              "      <td>EG4-FIXED</td>\n",
              "      <td>1</td>\n",
              "      <td>x+2 = 5</td>\n",
              "      <td>2005-09-09 12:25:15.0</td>\n",
              "      <td>2005-09-09 12:25:31.0</td>\n",
              "      <td>2005-09-09 12:25:31.0</td>\n",
              "      <td>2005-09-09 12:25:31.0</td>\n",
              "      <td>16.0</td>\n",
              "      <td>16.0</td>\n",
              "      <td>NaN</td>\n",
              "      <td>1</td>\n",
              "      <td>0</td>\n",
              "      <td>0</td>\n",
              "      <td>1</td>\n",
              "      <td>[SkillRule: Remove constant; {ax+b=c, positive...</td>\n",
              "      <td>1~~1</td>\n",
              "    </tr>\n",
              "    <tr>\n",
              "      <th>2</th>\n",
              "      <td>3</td>\n",
              "      <td>0BrbPbwCMz</td>\n",
              "      <td>Unit ES_04, Section ES_04-1</td>\n",
              "      <td>EG40</td>\n",
              "      <td>1</td>\n",
              "      <td>2-8y = -4</td>\n",
              "      <td>2005-09-09 12:25:36.0</td>\n",
              "      <td>2005-09-09 12:25:43.0</td>\n",
              "      <td>2005-09-09 12:26:12.0</td>\n",
              "      <td>2005-09-09 12:26:12.0</td>\n",
              "      <td>36.0</td>\n",
              "      <td>NaN</td>\n",
              "      <td>36.0</td>\n",
              "      <td>0</td>\n",
              "      <td>2</td>\n",
              "      <td>3</td>\n",
              "      <td>1</td>\n",
              "      <td>[SkillRule: Remove constant; {ax+b=c, positive...</td>\n",
              "      <td>2</td>\n",
              "    </tr>\n",
              "    <tr>\n",
              "      <th>3</th>\n",
              "      <td>4</td>\n",
              "      <td>0BrbPbwCMz</td>\n",
              "      <td>Unit ES_04, Section ES_04-1</td>\n",
              "      <td>EG40</td>\n",
              "      <td>1</td>\n",
              "      <td>-8y = -6</td>\n",
              "      <td>2005-09-09 12:26:12.0</td>\n",
              "      <td>2005-09-09 12:26:34.0</td>\n",
              "      <td>2005-09-09 12:26:34.0</td>\n",
              "      <td>2005-09-09 12:26:34.0</td>\n",
              "      <td>22.0</td>\n",
              "      <td>22.0</td>\n",
              "      <td>NaN</td>\n",
              "      <td>1</td>\n",
              "      <td>0</td>\n",
              "      <td>0</td>\n",
              "      <td>1</td>\n",
              "      <td>[SkillRule: Remove coefficient; {ax+b=c, divid...</td>\n",
              "      <td>1~~1</td>\n",
              "    </tr>\n",
              "    <tr>\n",
              "      <th>4</th>\n",
              "      <td>5</td>\n",
              "      <td>0BrbPbwCMz</td>\n",
              "      <td>Unit ES_04, Section ES_04-1</td>\n",
              "      <td>EG40</td>\n",
              "      <td>2</td>\n",
              "      <td>-7y-5 = -4</td>\n",
              "      <td>2005-09-09 12:26:38.0</td>\n",
              "      <td>2005-09-09 12:28:36.0</td>\n",
              "      <td>2005-09-09 12:28:36.0</td>\n",
              "      <td>2005-09-09 12:28:36.0</td>\n",
              "      <td>118.0</td>\n",
              "      <td>118.0</td>\n",
              "      <td>NaN</td>\n",
              "      <td>1</td>\n",
              "      <td>0</td>\n",
              "      <td>0</td>\n",
              "      <td>1</td>\n",
              "      <td>[SkillRule: Remove constant; {ax+b=c, positive...</td>\n",
              "      <td>3~~1</td>\n",
              "    </tr>\n",
              "  </tbody>\n",
              "</table>\n",
              "</div>"
            ],
            "text/plain": [
              "   Row  ... Opportunity(Default)\n",
              "0    1  ...                    1\n",
              "1    2  ...                 1~~1\n",
              "2    3  ...                    2\n",
              "3    4  ...                 1~~1\n",
              "4    5  ...                 3~~1\n",
              "\n",
              "[5 rows x 19 columns]"
            ]
          },
          "metadata": {
            "tags": []
          },
          "execution_count": 3
        }
      ]
    },
    {
      "cell_type": "code",
      "metadata": {
        "id": "GXebrFO3hZkp",
        "colab_type": "code",
        "outputId": "7b9c063d-23e0-4d2d-9d9f-1980ef3e9595",
        "colab": {
          "base_uri": "https://localhost:8080/",
          "height": 151
        }
      },
      "source": [
        "print ('Number of students: ', len(np.unique(traindata['Anon Student Id'])))\n",
        "traindata.columns"
      ],
      "execution_count": 0,
      "outputs": [
        {
          "output_type": "stream",
          "text": [
            "Number of students:  15\n"
          ],
          "name": "stdout"
        },
        {
          "output_type": "execute_result",
          "data": {
            "text/plain": [
              "Index(['Row', 'Anon Student Id', 'Problem Hierarchy', 'Problem Name',\n",
              "       'Problem View', 'Step Name', 'Step Start Time',\n",
              "       'First Transaction Time', 'Correct Transaction Time', 'Step End Time',\n",
              "       'Step Duration (sec)', 'Correct Step Duration (sec)',\n",
              "       'Error Step Duration (sec)', 'Correct First Attempt', 'Incorrects',\n",
              "       'Hints', 'Corrects', 'KC(Default)', 'Opportunity(Default)'],\n",
              "      dtype='object')"
            ]
          },
          "metadata": {
            "tags": []
          },
          "execution_count": 4
        }
      ]
    },
    {
      "cell_type": "code",
      "metadata": {
        "id": "lLFr5ux_iNwY",
        "colab_type": "code",
        "outputId": "3644b8ea-aa59-400e-dba1-90737a5190c6",
        "colab": {
          "base_uri": "https://localhost:8080/",
          "height": 34
        }
      },
      "source": [
        "probs = traindata['Problem Name']\n",
        "probs = np.unique(probs)\n",
        "print ('No. of unique problems: ', len(probs))"
      ],
      "execution_count": 0,
      "outputs": [
        {
          "output_type": "stream",
          "text": [
            "No. of unique problems:  725\n"
          ],
          "name": "stdout"
        }
      ]
    },
    {
      "cell_type": "code",
      "metadata": {
        "id": "XowLsDYTij2B",
        "colab_type": "code",
        "outputId": "536bd06c-6073-46aa-d998-add1d74db4bc",
        "colab": {
          "base_uri": "https://localhost:8080/",
          "height": 34
        }
      },
      "source": [
        "KCs = []\n",
        "\n",
        "# Get the column of Knowledge Concepts, dropping all NaNs\n",
        "KCcol = traindata['KC(Default)']\n",
        "KCcol = list(KCcol.dropna())\n",
        "\n",
        "# Loop over every database entry, read the KCs, split on '~~' separator, append to list\n",
        "for i in range(len(KCcol)):\n",
        "    skills = KCcol[i].split('~~')\n",
        "    for skill in skills:\n",
        "        KCs.append(skill)\n",
        "        \n",
        "# Convert to set, which keeps only unique entries, then convert back to list\n",
        "KCs = list(set(KCs))\n",
        "\n",
        "# Print length\n",
        "print ('The total number of unique KCs is: ',len(KCs))"
      ],
      "execution_count": 0,
      "outputs": [
        {
          "output_type": "stream",
          "text": [
            "The total number of unique KCs is:  110\n"
          ],
          "name": "stdout"
        }
      ]
    },
    {
      "cell_type": "markdown",
      "metadata": {
        "id": "e37IHjfckIO_",
        "colab_type": "text"
      },
      "source": [
        "**Problem Heirarchies**"
      ]
    },
    {
      "cell_type": "code",
      "metadata": {
        "id": "VzlFTVBGkOOy",
        "colab_type": "code",
        "colab": {}
      },
      "source": [
        "hierarchy = traindata['Problem Hierarchy']\n",
        "units, sections = [], []\n",
        "for i in range(len(hierarchy)):\n",
        "    units.append(hierarchy[i].split(',')[0].strip())\n",
        "    sections.append(hierarchy[i].split(',')[1].strip())\n",
        "\n",
        "#adding units and sections as columns to the train data\n",
        "traindata['Problem Unit'] = pd.Series(units, index=traindata.index)\n",
        "traindata['Problem Section'] = pd.Series(sections, index=traindata.index)\n",
        "#rearranging column oreder\n",
        "cols = traindata.columns.tolist()\n",
        "cols = cols[0:3]+cols[-2::]+cols[3:-2]\n",
        "traindata = traindata[cols]"
      ],
      "execution_count": 0,
      "outputs": []
    }
  ]
}