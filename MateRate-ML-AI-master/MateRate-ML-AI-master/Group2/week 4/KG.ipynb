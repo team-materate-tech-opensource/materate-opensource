{
 "cells": [
  {
   "cell_type": "code",
   "execution_count": 1,
   "metadata": {},
   "outputs": [],
   "source": [
    "import numpy as np\n",
    "import pandas as pd\n",
    "import linecache\n",
    "import ctypes"
   ]
  },
  {
   "cell_type": "code",
   "execution_count": 2,
   "metadata": {},
   "outputs": [],
   "source": [
    "# Model for suggesting the learning sequence in terms of LO, it gives the learning sequence for each student to learn effectively\n",
    "import pandas as pd\n",
    "from matplotlib import pyplot as plt\n",
    "import numpy as np\n",
    "df=pd.ExcelFile('Data_Set_1 (1).xlsx')\n",
    "data1=pd.read_excel(df,\"Students' Data\")\n",
    "data2=pd.read_excel(df,\"Question - LO Codes\")\n",
    "data3=pd.read_excel(df,\"Sheet1\")\n",
    "data4=pd.read_excel(df,\"Sheet2\")\n",
    "\n",
    "data1.columns = data1.iloc[0]\n",
    "data1.drop([\"Stu36\",\"PriKey36\",\"Points36\",\"Mark36\",\"Stu37\",\"PriKey37\",\"Points37\",\"Mark37\",\"Stu38\",\"PriKey38\",\"Points38\",\n",
    "          \"Mark38\",\"Stu39\",\"PriKey39\",\"Points39\",\"Mark39\",\"Stu40\",\"PriKey40\",\"Points40\",\"Mark40\"],axis=1,inplace=True)\n",
    "data1=data1.drop(data1.index[0])\n",
    "data2.drop([\"Unnamed: 3\",\"Unnamed: 4\",\"LO\",\"Sub LO\"],axis=1,inplace=True)\n",
    "data1.reset_index(inplace = True)\n",
    "\n",
    "w,h = 11,35;\n",
    "b=[[0 for x in range(w)] for y in range(h)]\n",
    "prob=[[0 for x in range(w)] for y in range(h)]\n",
    "q=[[0 for x in range(w)] for y in range(h)]\n",
    "info=[[0 for x in range(w)] for y in range(h)]\n",
    "a=[0]*35\n",
    "result_lo = []\n",
    "for i in range(0,35):\n",
    "    rslt_df=data1[data1['StudentID']==data1['StudentID'][i]]\n",
    "    rslt_df=rslt_df.reset_index()\n",
    "    del rslt_df['index']\n",
    "    results=[]\n",
    "    for j in range(8,rslt_df.shape[1],4):\n",
    "        results.append(rslt_df.iloc[0][j])\n",
    "    #print(results)\n",
    "    lo_codes=[1]*11\n",
    "    for k in range(0,len(results)):\n",
    "        if results[k]=='C':\n",
    "            code_df=data2[data2['Question Number'] == k+1]\n",
    "            code_df=code_df.reset_index()\n",
    "            del code_df['index']\n",
    "            s = code_df['LO Code'].str.split(',')\n",
    "            for l in range(0,len(s[0])):\n",
    "                if s[0][l]=='L1':\n",
    "                    lo_codes[0]+=1\n",
    "                if s[0][l]=='L2':\n",
    "                    lo_codes[1]+=1\n",
    "                if s[0][l]=='L3':\n",
    "                    lo_codes[2]+=1\n",
    "                if s[0][l]=='L4':\n",
    "                    lo_codes[3]+=1\n",
    "                if s[0][l]=='L5':\n",
    "                    lo_codes[4]+=1\n",
    "                if s[0][l]=='L6':\n",
    "                    lo_codes[5]+=1\n",
    "                if s[0][l]=='L7':\n",
    "                    lo_codes[6]+=1\n",
    "                if s[0][l]=='L8':\n",
    "                    lo_codes[7]+=1\n",
    "                if s[0][l]=='L9':\n",
    "                    lo_codes[8]+=1\n",
    "                if s[0][l]=='L10':\n",
    "                    lo_codes[9]+=1\n",
    "                if s[0][l]=='L11':\n",
    "                    lo_codes[10]+=1\n",
    "    \n",
    "    #print(lo_codes)\n",
    "    lo_codes[0]=float(\"{:.2f}\".format(lo_codes[0]/19))\n",
    "    lo_codes[1]=float(\"{:.2f}\".format(lo_codes[1]/4))\n",
    "    lo_codes[2]=float(\"{:.2f}\".format(lo_codes[2]/6))\n",
    "    lo_codes[3]=float(\"{:.2f}\".format(lo_codes[3]/3))\n",
    "    lo_codes[4]=float(\"{:.2f}\".format(lo_codes[4]/5))\n",
    "    lo_codes[5]=float(\"{:.2f}\".format(lo_codes[5]/3))\n",
    "    lo_codes[6]=float(\"{:.2f}\".format(lo_codes[6]/3))\n",
    "    lo_codes[7]=float(\"{:.2f}\".format(lo_codes[7]/3))\n",
    "    lo_codes[8]=float(\"{:.2f}\".format(lo_codes[8]/7))\n",
    "    lo_codes[9]=float(\"{:.2f}\".format(lo_codes[9]/6))\n",
    "    lo_codes[10]=float(\"{:.2f}\".format(lo_codes[10]/6))\n",
    "    #print(lo_codes)\n",
    "    \n",
    "    correct_ans=rslt_df['Earned Points'][0]\n",
    "    total_ques=(rslt_df.shape[1]-4)/4\n",
    "    score=(correct_ans/total_ques)\n",
    "    #print(score)\n",
    "    \n",
    "    v=i\n",
    "    if score<0.8:\n",
    "        a[v]=np.log(score/(1-score))\n",
    "        #print(a)\n",
    "        exp=2.718281\n",
    "        for m in range(0,len(lo_codes)):\n",
    "            b[v][m]=np.log((1-lo_codes[m])/lo_codes[m])\n",
    "            #print(b)\n",
    "            prob[v][m]=pow(exp,(a[v]-b[v][m]))/(1+pow(exp,(a[v]-b[v][m])))\n",
    "            q[v][m]=1-lo_codes[m]\n",
    "            info[v][m]=lo_codes[m]*q[v][m]\n",
    "\n",
    "for index in range(0,35):\n",
    "    LO=['L1','L2','L3','L4','L5','L6','L7','L8','L9','L10','L11']\n",
    "    \n",
    "    for i in range(0, len(prob[index])):    \n",
    "        for j in range(i+1, len(prob[index])):    \n",
    "            if(prob[index][i] > prob[index][j]):    \n",
    "                temp = prob[index][i]    \n",
    "                prob[index][i] = prob[index][j]    \n",
    "                prob[index][j] = temp\n",
    "                temp=LO[i]\n",
    "                LO[i]=LO[j]\n",
    "                LO[j]=temp\n",
    "    \n",
    "    for k in range(0,len(prob[index])):\n",
    "        if prob[index][k]>0.8:\n",
    "            break\n",
    "            \n",
    "    #print(prob[index][:k])\n",
    "    result_lo.append(LO[:k])"
   ]
  },
  {
   "cell_type": "code",
   "execution_count": 3,
   "metadata": {},
   "outputs": [],
   "source": [
    "class Newnode :\n",
    "    def __init__(self):\n",
    "        self.key = -1 \n",
    "        self.concept =\" \"\n",
    "        self.neigh = []\n",
    "        self.relation_w_n = []\n",
    "        self.skills = []"
   ]
  },
  {
   "cell_type": "code",
   "execution_count": 4,
   "metadata": {},
   "outputs": [],
   "source": [
    "def createnode(key,concept,skills,neighbours,relations):\n",
    "    node = Newnode()\n",
    "    node.key = key\n",
    "    node.concept = concept\n",
    "    node.neigh = neighbours\n",
    "    node.skills = skills\n",
    "    node.relation_w_n = relations\n",
    "    return node"
   ]
  },
  {
   "cell_type": "code",
   "execution_count": 5,
   "metadata": {},
   "outputs": [],
   "source": [
    "def update(key,key_node,relatives,relations):\n",
    "    for i in range(len(relatives)):\n",
    "        key_node[relatives[i]].neigh.append(key)\n",
    "        key_node[relatives[i]].relation_w_n.append(-relations[i])"
   ]
  },
  {
   "cell_type": "code",
   "execution_count": 6,
   "metadata": {},
   "outputs": [],
   "source": [
    "def printnode(n):\n",
    "    #l = open(\"output.txt\",'r').readlines()\n",
    "    #node_printing = l[n+1].split()\n",
    "    print(\"The concept is \",key_node[n].concept)\n",
    "    neighbours = []\n",
    "    for i in range(len(key_node[n].neigh)) :\n",
    "        neighbours.append(key_node[key_node[n].neigh[i]].concept)\n",
    "    print(\"The neighbours are \" + str(neighbours))\n",
    "    relations = []\n",
    "    for i in range(len(key_node[n].relation_w_n)) :\n",
    "        relations.append(key_node[n].relation_w_n[i])\n",
    "    print(\"The relation with neighnours are \" + str(relations))\n",
    "    print(\"The skills of this concept is \"+ str(key_node[n].skills))"
   ]
  },
  {
   "cell_type": "code",
   "execution_count": 7,
   "metadata": {},
   "outputs": [],
   "source": [
    "def deletenode(n,key_node,all_relations_for_graph,G):\n",
    "    G.remove_node(n)\n",
    "    all_relations_for_graph = G.edges()\n",
    "    key_node[n]=\"Deleted\"\n",
    "    lines = open(\"output.txt\",'r').readlines()\n",
    "    lines[n-1] = str(n) + \" Deleted\\n\" \n",
    "    out = open(\"output.txt\",'w')\n",
    "    out.writelines(lines)\n",
    "    out.close()\n",
    "    return key_node, all_relations_for_graph, G"
   ]
  },
  {
   "cell_type": "code",
   "execution_count": 8,
   "metadata": {},
   "outputs": [],
   "source": [
    "def editnode(n,concept,skills,neighbours,relations,G,H,all_relations_for_graph):\n",
    "    key_node[n].concept = concept\n",
    "    key_node[n].skills = skills\n",
    "    key_node[n].neigh = neighbours\n",
    "    key_node[n].relations_w_n = relations\n",
    "    G.remove_node(n)\n",
    "    H.add_node(n)\n",
    "    H.add_nodes_from(G.nodes())\n",
    "    H.add_edges_from(G.edges())\n",
    "    a = []\n",
    "    for i in range(len(neighbours)):\n",
    "        a.append((n,neighbours[i]))\n",
    "    H.add_edges_from(a)\n",
    "    del G\n",
    "    return H,all_relations_for_graph"
   ]
  },
  {
   "cell_type": "code",
   "execution_count": 9,
   "metadata": {},
   "outputs": [],
   "source": [
    "def bfs_traversal(G,root) :\n",
    "    edges = nx.bfs_edges(G, root)\n",
    "    nodes = [root] + [v for u, v in edges]\n",
    "    return nodes\n"
   ]
  },
  {
   "cell_type": "code",
   "execution_count": 10,
   "metadata": {},
   "outputs": [],
   "source": [
    "def get_levels(key_node):\n",
    "    levels= {}\n",
    "    levels[1] = 1\n",
    "    for a in range(2,len(key_node)):\n",
    "        b = key_node[a].relation_w_n[0]\n",
    "        c = key_node[a].neigh[0]\n",
    "        if(b==1):\n",
    "            levels[a] = levels[c] + 1\n",
    "        if(b==0):\n",
    "            levels[a]=levels[c]\n",
    "    return levels"
   ]
  },
  {
   "cell_type": "code",
   "execution_count": 11,
   "metadata": {},
   "outputs": [],
   "source": [
    "def get_paths_util(u, d, visited, path,final_paths):\n",
    "    visited[u]=True\n",
    "    path.append(u)\n",
    "    lines = open(\"output.txt\",'r').readlines()\n",
    "    u_node = (ctypes.cast(int(lines[u-1][2:-1]), ctypes.py_object).value)\n",
    "    d_node=(ctypes.cast(int(lines[d-1][2:-1]), ctypes.py_object).value)\n",
    "    if(u == d):\n",
    "        #print(path)\n",
    "        final_paths.append(np.array(path.copy()))\n",
    "        path.pop()\n",
    "        visited[u]=False\n",
    "        return final_paths\n",
    "        \n",
    "    else :\n",
    "        for i in u_node.neigh:\n",
    "            #print(i)\n",
    "            if(visited[i]==False) :\n",
    "                final_paths = get_paths_util(i,d,visited,path,final_paths)\n",
    "    path.pop()\n",
    "    visited[u]=False\n",
    "    return final_paths\n"
   ]
  },
  {
   "cell_type": "code",
   "execution_count": 12,
   "metadata": {},
   "outputs": [],
   "source": [
    "def get_paths(s,d):\n",
    "    lines = open(\"output.txt\",'r').readlines()\n",
    "    s_node = (ctypes.cast(int(lines[s-1][2:-1]), ctypes.py_object).value)\n",
    "    d_node =(ctypes.cast(int(lines[d-1][2:-1]), ctypes.py_object).value)\n",
    "    visited = [False]*(len(lines)+1)\n",
    "    path = []\n",
    "    final_paths = []\n",
    "    final_paths = get_paths_util(s,d,visited,path,final_paths)\n",
    "    return np.array(final_paths)"
   ]
  },
  {
   "cell_type": "code",
   "execution_count": 13,
   "metadata": {},
   "outputs": [],
   "source": [
    "def get_shortest_path_util(path,student_ability,threshold):\n",
    "    i = path[0]\n",
    "    result = []\n",
    "    difficulty = 0\n",
    "    student_ability = np.array(student_ability)\n",
    "    for j in path[1:-1]:\n",
    "        lines = open(\"output.txt\",'r').readlines()\n",
    "        j_node_skills = np.array((ctypes.cast(int(lines[j-1][2:-1]), ctypes.py_object).value).skills)\n",
    "        difference = np.sum(j_node_skills-student_ability)\n",
    "        if(difference>threshold):\n",
    "            result.append(j)\n",
    "            difficulty = difference+difficulty\n",
    "            student_ability = student_ability + 0.5*np.multiply(((student_ability-j_node_skills)>0),j_node_skills)\n",
    "    result.append(path[len(path)-1])\n",
    "    return result,difficulty"
   ]
  },
  {
   "cell_type": "code",
   "execution_count": 14,
   "metadata": {},
   "outputs": [],
   "source": [
    "out_file = open(\"output.txt\",'a+')\n",
    "concept_data= open(\"Concepts_data.txt\",\"r\")\n",
    "lines  = concept_data.readlines()\n",
    "lines=[x.strip() for x in lines]\n",
    "key_node = {}\n",
    "all_relations_for_graph = []"
   ]
  },
  {
   "cell_type": "code",
   "execution_count": 15,
   "metadata": {},
   "outputs": [],
   "source": [
    "for i in range(int(len(lines)/5)) :\n",
    "    key = int(lines[5*i])\n",
    "    concept = lines[5*i+1]\n",
    "    skills = lines[5*i+2].split()\n",
    "    neigh = lines[5*i+3].split()\n",
    "    relation = lines[5*i+4].split()\n",
    "    s = []\n",
    "    n = []\n",
    "    r = []\n",
    "    for j in range(len(skills)) :\n",
    "        s.append(float(skills[j]))\n",
    "    if(neigh[0]!=\"-\"):\n",
    "        for j in range(len(neigh)):\n",
    "            n.append(int(neigh[j]))\n",
    "            r.append(int(relation[j]))\n",
    "            all_relations_for_graph.append((key,int(neigh[j])))\n",
    "    node = createnode(key,concept,s,n,r)\n",
    "    key_node[key] = node\n",
    "    update(key,key_node,n,r)"
   ]
  },
  {
   "cell_type": "code",
   "execution_count": 16,
   "metadata": {},
   "outputs": [],
   "source": [
    "def getkeys_asarray(dict):\n",
    "    return [*dict]\n",
    "a = getkeys_asarray(key_node)\n",
    "for i in range(len(a)):\n",
    "    out_file.write(str(a[i])+\" \"+str(id(key_node[a[i]]))+\"\\n\")\n",
    "out_file.close()"
   ]
  },
  {
   "cell_type": "code",
   "execution_count": 17,
   "metadata": {},
   "outputs": [],
   "source": [
    "import networkx as nx\n",
    "import matplotlib.pyplot as plt\n",
    "G=nx.Graph()"
   ]
  },
  {
   "cell_type": "code",
   "execution_count": 18,
   "metadata": {},
   "outputs": [
    {
     "data": {
      "text/plain": [
       "[(2, 1),\n",
       " (3, 1),\n",
       " (4, 1),\n",
       " (5, 2),\n",
       " (6, 2),\n",
       " (7, 3),\n",
       " (8, 4),\n",
       " (9, 4),\n",
       " (10, 4),\n",
       " (11, 4),\n",
       " (12, 6),\n",
       " (13, 6),\n",
       " (14, 6),\n",
       " (15, 8),\n",
       " (16, 8),\n",
       " (17, 11),\n",
       " (18, 17),\n",
       " (19, 17),\n",
       " (20, 17)]"
      ]
     },
     "execution_count": 18,
     "metadata": {},
     "output_type": "execute_result"
    }
   ],
   "source": [
    "all_relations_for_graph"
   ]
  },
  {
   "cell_type": "code",
   "execution_count": 19,
   "metadata": {},
   "outputs": [
    {
     "name": "stderr",
     "output_type": "stream",
     "text": [
      "C:\\Users\\adity\\Anaconda3\\lib\\site-packages\\networkx\\drawing\\nx_pylab.py:579: MatplotlibDeprecationWarning: \n",
      "The iterable function was deprecated in Matplotlib 3.1 and will be removed in 3.3. Use np.iterable instead.\n",
      "  if not cb.iterable(width):\n"
     ]
    },
    {
     "data": {
      "image/png": "[encoded data removed]",
      "text/plain": [
       "<Figure size 432x288 with 1 Axes>"
      ]
     },
     "metadata": {},
     "output_type": "display_data"
    }
   ],
   "source": [
    "# adding just one node:\n",
    "G.add_node(1)\n",
    "# a list of nodes:\n",
    "G.add_nodes_from(key_node.keys())\n",
    "G.add_edges_from(all_relations_for_graph)\n",
    "nx.draw(G)"
   ]
  },
  {
   "cell_type": "code",
   "execution_count": 20,
   "metadata": {},
   "outputs": [
    {
     "name": "stdout",
     "output_type": "stream",
     "text": [
      "The concept is  Measurement\n",
      "The neighbours are ['Length', 'Non-staandard units', 'Standard Units']\n",
      "The relation with neighnours are [1, -1, -1]\n",
      "The skills of this concept is [0.42, 0.56, 0.41, 0.22]\n"
     ]
    }
   ],
   "source": [
    "#using printnode\n",
    "printnode(2)"
   ]
  },
  {
   "cell_type": "code",
   "execution_count": 21,
   "metadata": {},
   "outputs": [
    {
     "data": {
      "text/plain": [
       "{1: 1,\n",
       " 2: 2,\n",
       " 3: 2,\n",
       " 4: 2,\n",
       " 5: 3,\n",
       " 6: 3,\n",
       " 7: 3,\n",
       " 8: 3,\n",
       " 9: 3,\n",
       " 10: 3,\n",
       " 11: 3,\n",
       " 12: 4,\n",
       " 13: 4,\n",
       " 14: 4,\n",
       " 15: 4,\n",
       " 16: 4,\n",
       " 17: 4,\n",
       " 18: 5,\n",
       " 19: 5}"
      ]
     },
     "execution_count": 21,
     "metadata": {},
     "output_type": "execute_result"
    }
   ],
   "source": [
    "#getting levels\n",
    "levels= get_levels(key_node)\n",
    "levels"
   ]
  },
  {
   "cell_type": "code",
   "execution_count": 22,
   "metadata": {},
   "outputs": [
    {
     "data": {
      "text/plain": [
       "['L3', 'L4', 'L6', 'L7', 'L8', 'L1', 'L2', 'L9', 'L5', 'L10']"
      ]
     },
     "execution_count": 22,
     "metadata": {},
     "output_type": "execute_result"
    }
   ],
   "source": [
    "#let us get the path for student 1\n",
    "result_lo[0]"
   ]
  },
  {
   "cell_type": "code",
   "execution_count": 23,
   "metadata": {},
   "outputs": [],
   "source": [
    "lo_with_concept = np.random.randint(1,20,size=11)"
   ]
  },
  {
   "cell_type": "code",
   "execution_count": null,
   "metadata": {},
   "outputs": [],
   "source": [
    "def get_shortest_path(final_paths):\n",
    "    paths_difficulty = []\n",
    "    for i in range(1,final_paths.shape[0]+1):\n",
    "        result,difficulty = get_shortest_path_util(final_paths[i-1],[0.4,0.41,0.22,0.13],0.2)\n",
    "        paths_difficulty.append(difficulty)\n",
    "    return final_paths[np.argmax(np.array(paths_difficulty))]\n",
    "\n",
    "\n",
    "path = []    \n",
    "for i in range(1,len(result_lo[0])):\n",
    "    start_concept = lo_with_concept[int(result_lo[0][i-1][1])-1]\n",
    "    target_concept = lo_with_concept[int(result_lo[0][i][1])-1]\n",
    "    all_paths = get_paths(start_concept,target_concept)\n",
    "    short_path = get_shortest_path(all_paths)\n",
    "    for i in range(0,len(short_path)):\n",
    "        a = short_path[i]\n",
    "        if(not(a in path)) : path.append(a)"
   ]
  },
  {
   "cell_type": "code",
   "execution_count": null,
   "metadata": {},
   "outputs": [],
   "source": [
    "path"
   ]
  },
  {
   "cell_type": "code",
   "execution_count": null,
   "metadata": {},
   "outputs": [],
   "source": [
    "#using deletenode\n",
    "key_node, all_relations_for_graph, G = deletenode(1,key_node,all_relations_for_graph,G)\n",
    "nx.draw(G)"
   ]
  },
  {
   "cell_type": "code",
   "execution_count": null,
   "metadata": {},
   "outputs": [],
   "source": [
    "#using editnode\n",
    "H = nx.Graph()\n",
    "G, all_relations_for_graph = editnode(2,\"Concept 2\",[0,0,0,0],[3,4,5],[0,0,-1],G,H,all_relations_for_graph)\n",
    "nx.draw(G)"
   ]
  },
  {
   "cell_type": "code",
   "execution_count": null,
   "metadata": {},
   "outputs": [],
   "source": [
    "#using traversal\n",
    "nodes = bfs_traversal(G,2)\n",
    "nodes\n"
   ]
  }
 ],
 "metadata": {
  "kernelspec": {
   "display_name": "Python 3",
   "language": "python",
   "name": "python3"
  },
  "language_info": {
   "codemirror_mode": {
    "name": "ipython",
    "version": 3
   },
   "file_extension": ".py",
   "mimetype": "text/x-python",
   "name": "python",
   "nbconvert_exporter": "python",
   "pygments_lexer": "ipython3",
   "version": "3.7.3"
  }
 },
 "nbformat": 4,
 "nbformat_minor": 2
}
