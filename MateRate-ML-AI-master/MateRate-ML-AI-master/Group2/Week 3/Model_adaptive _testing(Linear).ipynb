{
 "cells": [
  {
   "cell_type": "code",
   "execution_count": 7,
   "metadata": {},
   "outputs": [],
   "source": [
    "import numpy as np\n",
    "import pandas as pd"
   ]
  },
  {
   "cell_type": "code",
   "execution_count": 8,
   "metadata": {},
   "outputs": [],
   "source": [
    "test_bank = (np.random.randint(0,100,[10000,5]))/100\n",
    "student_marks =  np.random.randint(0,2,[100,40])\n",
    "skill_matrix_for_diagnostic_test = (np.random.randint(0,100,[40,5]))/100"
   ]
  },
  {
   "cell_type": "code",
   "execution_count": 9,
   "metadata": {},
   "outputs": [],
   "source": [
    "student_ability = (np.dot(student_marks,skill_matrix_for_diagnostic_test))/np.sum(skill_matrix_for_diagnostic_test,axis = 0)"
   ]
  },
  {
   "cell_type": "code",
   "execution_count": 10,
   "metadata": {},
   "outputs": [],
   "source": [
    "def my_function(tb,student_ability, Id) :\n",
    "    s_ability = student_ability[Id]\n",
    "    distance = pow(pow((test_bank - s_ability),2) + pow((test_bank - [1,1,1,1,1]),2),0.5)\n",
    "    mask = (np.sum(pow(pow((test_bank - s_ability),2),0.5),axis = 1) <= 0.4)\n",
    "    distance = np.sum(distance,axis = 1)\n",
    "    distance = np.multiply(distance,mask)\n",
    "    for i in range(10000) :\n",
    "        if(distance[i]==0) :\n",
    "            distance[i]=100\n",
    "    print(\"The suggested question is \",(np.argmin(distance)))\n",
    "    print(\"If answered correctly press 1 else 0\")\n",
    "    ans = int(input()) ;\n",
    "    a = student_ability;\n",
    "    if(ans == 1) :\n",
    "        student_ability[Id] = student_ability[Id] + 0.01*(test_bank[np.argmin(distance)])\n",
    "    tb[np.argmin(distance)] = [0,0,0,0,0]\n",
    "    return tb, student_ability\n",
    "    "
   ]
  },
  {
   "cell_type": "code",
   "execution_count": 11,
   "metadata": {},
   "outputs": [
    {
     "name": "stdout",
     "output_type": "stream",
     "text": [
      "Enter Student ID\n",
      "85\n",
      "Number of questions you want\n",
      "10\n",
      "Ability of student after solving 0 questions is [0.4409965  0.41276377 0.45283019 0.52474772 0.39659367]\n",
      "The suggested question is  1981\n",
      "If answered correctly press 1 else 0\n",
      "1\n",
      "Ability of student after solving 1 questions is [0.4467965  0.41696377 0.45923019 0.52974772 0.40019367]\n",
      "The suggested question is  1981\n",
      "If answered correctly press 1 else 0\n",
      "1\n",
      "Ability of student after solving 2 questions is [0.4525965  0.42116377 0.46563019 0.53474772 0.40379367]\n",
      "The suggested question is  1981\n",
      "If answered correctly press 1 else 0\n",
      "1\n",
      "Ability of student after solving 3 questions is [0.4583965  0.42536377 0.47203019 0.53974772 0.40739367]\n",
      "The suggested question is  4398\n",
      "If answered correctly press 1 else 0\n",
      "0\n",
      "Ability of student after solving 4 questions is [0.4583965  0.42536377 0.47203019 0.53974772 0.40739367]\n",
      "The suggested question is  4398\n",
      "If answered correctly press 1 else 0\n",
      "0\n",
      "Ability of student after solving 5 questions is [0.4583965  0.42536377 0.47203019 0.53974772 0.40739367]\n",
      "The suggested question is  4398\n",
      "If answered correctly press 1 else 0\n",
      "1\n",
      "Ability of student after solving 6 questions is [0.4628965  0.43066377 0.47723019 0.54704772 0.41189367]\n",
      "The suggested question is  4398\n",
      "If answered correctly press 1 else 0\n",
      "0\n",
      "Ability of student after solving 7 questions is [0.4628965  0.43066377 0.47723019 0.54704772 0.41189367]\n",
      "The suggested question is  4398\n",
      "If answered correctly press 1 else 0\n",
      "1\n",
      "Ability of student after solving 8 questions is [0.4673965  0.43596377 0.48243019 0.55434772 0.41639367]\n",
      "The suggested question is  4398\n",
      "If answered correctly press 1 else 0\n",
      "1\n",
      "Ability of student after solving 9 questions is [0.4718965  0.44126377 0.48763019 0.56164772 0.42089367]\n",
      "The suggested question is  5096\n",
      "If answered correctly press 1 else 0\n",
      "1\n",
      "Ability of student after solving 10 questions is  [0.4763965  0.44636377 0.49333019 0.56734772 0.42719367]\n"
     ]
    }
   ],
   "source": [
    "print(\"Enter Student ID\")\n",
    "Id = int(input()) ;\n",
    "print(\"Number of questions you want\")\n",
    "no = int(input())\n",
    "tb = test_bank.copy()\n",
    "for i in range(no) :\n",
    "    print(\"Ability of student after solving\",(i),\"questions is\",student_ability[Id])\n",
    "    tb , student_ability = my_function(tb,student_ability, Id)\n",
    "print(\"Ability of student after solving\",no,\"questions is \",student_ability[Id])"
   ]
  }
 ],
 "metadata": {
  "kernelspec": {
   "display_name": "Python 3",
   "language": "python",
   "name": "python3"
  },
  "language_info": {
   "codemirror_mode": {
    "name": "ipython",
    "version": 3
   },
   "file_extension": ".py",
   "mimetype": "text/x-python",
   "name": "python",
   "nbconvert_exporter": "python",
   "pygments_lexer": "ipython3",
   "version": "3.7.3"
  }
 },
 "nbformat": 4,
 "nbformat_minor": 2
}
